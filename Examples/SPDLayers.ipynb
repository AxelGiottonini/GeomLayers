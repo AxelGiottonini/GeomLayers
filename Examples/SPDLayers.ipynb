{
 "cells": [
  {
   "cell_type": "code",
   "execution_count": null,
   "metadata": {},
   "outputs": [],
   "source": [
    "import torch\n",
    "import torch.nn as nn\n",
    "import torch.optim as o\n",
    "from torch.utils.data import DataLoader\n",
    "\n",
    "from GeomLayers.SPDLayers import *\n",
    "from GeomLayers.Toy import ToyNormCovarianceDataset\n",
    "from GeomLayers.metaoptimizer import MetaOptimizer"
   ]
  },
  {
   "cell_type": "code",
   "execution_count": null,
   "metadata": {},
   "outputs": [],
   "source": [
    "net = nn.Sequential(\n",
    "    SPDBiMap(10, 10),\n",
    "    SPDReEig(1e-2),\n",
    "    SPDBiMap(10, 5),\n",
    "    SPDReEig(1e-2),\n",
    "    SPDBiMap(5, 3),\n",
    "    SPDLogEig(),\n",
    "    SPDVectorize(3),\n",
    "    nn.BatchNorm1d(6),\n",
    "    nn.Linear(6, 128),\n",
    "    nn.ReLU(),\n",
    "    nn.Linear(128, 20),\n",
    "    nn.LogSoftmax(dim=-1)\n",
    ")\n",
    "optimizer = MetaOptimizer(net.parameters(), o.Adam)\n",
    "loss_fn = nn.NLLLoss()"
   ]
  },
  {
   "cell_type": "code",
   "execution_count": null,
   "metadata": {},
   "outputs": [],
   "source": [
    "dataset = ToyNormCovarianceDataset()\n",
    "val_dataset = ToyNormCovarianceDataset(n_item_per_class=20)\n",
    "dataloader = DataLoader(dataset, batch_size=8, shuffle=True)\n",
    "val_dataloader = DataLoader(dataset, batch_size=8, shuffle=False)"
   ]
  },
  {
   "cell_type": "code",
   "execution_count": null,
   "metadata": {},
   "outputs": [],
   "source": [
    "for i in range(10):\n",
    "    net.train()\n",
    "    for features, labels in dataloader:\n",
    "        out = net(features)\n",
    "        loss = loss_fn(out, labels)\n",
    "        loss.backward()\n",
    "        optimizer.step()\n",
    "        optimizer.zero_grad()\n",
    "\n",
    "    net.eval()\n",
    "    eval_labels = []\n",
    "    eval_logits = []\n",
    "    for features, labels in val_dataloader:\n",
    "        out = net(features)\n",
    "        eval_labels.append(labels)\n",
    "        eval_logits.append(out)\n",
    "\n",
    "    eval_labels = torch.concat(eval_labels, dim=0)\n",
    "    eval_logits = torch.concat(eval_logits, dim=0)\n",
    "    eval_preds = torch.argmax(eval_logits, dim=-1)\n",
    "    eval_loss = loss_fn(eval_logits, eval_preds)\n",
    "    eval_acc = sum(eval_labels == eval_preds) / len(eval_preds) * 100\n",
    "    print(eval_loss.detach(), eval_acc)"
   ]
  }
 ],
 "metadata": {
  "language_info": {
   "name": "python"
  }
 },
 "nbformat": 4,
 "nbformat_minor": 2
}
